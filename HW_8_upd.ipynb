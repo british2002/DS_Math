{
  "nbformat": 4,
  "nbformat_minor": 0,
  "metadata": {
    "colab": {
      "name": "HW_8_upd",
      "provenance": []
    },
    "kernelspec": {
      "name": "python3",
      "display_name": "Python 3"
    }
  },
  "cells": [
    {
      "cell_type": "markdown",
      "metadata": {
        "id": "_kX74ytuOfgy"
      },
      "source": [
        "# Домашнее задание \"Случайные величины и вероятности\"."
      ]
    },
    {
      "cell_type": "markdown",
      "source": [
        "## Уровень 0:\n"
      ],
      "metadata": {
        "id": "t69IZulqTZMz"
      }
    },
    {
      "cell_type": "markdown",
      "source": [
        "### Задание 1"
      ],
      "metadata": {
        "id": "9JUikPzroAL8"
      }
    },
    {
      "cell_type": "markdown",
      "source": [
        "В магазин привезли устройства с 3-х разных предприятий.\n",
        "\n",
        "Соотношение устройств следующее: 20% - продукция первого предприятия, 30% - продукция второго предприятия, 50% - продукция третьего предприятия; далее, 10% продукции первого предприятия высшего сорта, на втором предприятии - 5% и на третьем - 20% продукции высшего сорта.\n",
        "\n",
        "Найти вероятность того, что случайно купленная новая продукция окажется высшего сорта."
      ],
      "metadata": {
        "id": "-iPjA-eBHwGP"
      }
    },
    {
      "cell_type": "code",
      "source": [
        "#нужно вычислить полную вероятность, которая является суммой произведений вероятностей\n",
        "p = 0.2*0.1+0.3*0.05+0.5*0.2\n",
        "\n",
        "print(f'Вероятность того, что случайно купленная новая продукция окажется высшего сорта: ', p)\n",
        "print(f'Эта же вероятность в процентах: ', p*100)"
      ],
      "metadata": {
        "id": "RZ4QTueWHxyl",
        "outputId": "11306469-2eff-4d6e-f1c8-edf229cec9a3",
        "colab": {
          "base_uri": "https://localhost:8080/"
        }
      },
      "execution_count": 1,
      "outputs": [
        {
          "output_type": "stream",
          "name": "stdout",
          "text": [
            "Вероятность того, что случайно купленная новая продукция окажется высшего сорта:  0.135\n",
            "Эта же вероятность в процентах:  13.5\n"
          ]
        }
      ]
    },
    {
      "cell_type": "markdown",
      "source": [
        "### Задание 2\n"
      ],
      "metadata": {
        "id": "6Ff11QC3H8mR"
      }
    },
    {
      "cell_type": "markdown",
      "source": [
        "\n",
        "Пусть брошены 3 уравновешенные монеты.\n",
        "\n",
        "Рассмотрим 3 события:\n",
        "\n",
        "A1 - монеты 1 и 2 упали одной и той же стороной;\n",
        "\n",
        "A2 - монеты 2 и 3 упали одной и той же стороной;\n",
        "\n",
        "A3 - монеты 1 и 3 упали одной и той же стороной.\n",
        "\n",
        "Покажите, почему эти 3 события (A1, A2, A3) являются попарно независимыми, но не являются независимыми в совокупности."
      ],
      "metadata": {
        "id": "ya8BlSO5nQ9a"
      }
    },
    {
      "cell_type": "code",
      "source": [
        "#два любых события независимы изначально, потому  P(A1||A2) = P(A1) * P(A2)\n",
        "#P(A1) = P(A2) = 1/2\n",
        "p_a1_a2 = 0.5 *0.5\n",
        "p_a1_a2"
      ],
      "metadata": {
        "id": "p2gC3FEFnY08",
        "outputId": "86bc62eb-4dcd-444e-b7dc-2cdf4ebb0171",
        "colab": {
          "base_uri": "https://localhost:8080/"
        }
      },
      "execution_count": 2,
      "outputs": [
        {
          "output_type": "execute_result",
          "data": {
            "text/plain": [
              "0.25"
            ]
          },
          "metadata": {},
          "execution_count": 2
        }
      ]
    },
    {
      "cell_type": "code",
      "source": [
        "#аналогично P(A2||A3) = P(A2) * P(A3)\n",
        "p_a2_a3 = 0.5 *0.5\n",
        "p_a2_a3"
      ],
      "metadata": {
        "id": "F6n3Nok8Nb0m",
        "outputId": "66001b1c-d904-44d7-ec24-7aa7e98bf6e7",
        "colab": {
          "base_uri": "https://localhost:8080/"
        }
      },
      "execution_count": 3,
      "outputs": [
        {
          "output_type": "execute_result",
          "data": {
            "text/plain": [
              "0.25"
            ]
          },
          "metadata": {},
          "execution_count": 3
        }
      ]
    },
    {
      "cell_type": "code",
      "source": [
        "#аналогично P(A1||A3) = P(A1) * P(A3)\n",
        "p_a1_a3 = 0.5 *0.5\n",
        "p_a1_a3"
      ],
      "metadata": {
        "id": "qoXEGKbrSWhM",
        "outputId": "f581c9b7-18db-48cc-da57-67e43ace3e30",
        "colab": {
          "base_uri": "https://localhost:8080/"
        }
      },
      "execution_count": 4,
      "outputs": [
        {
          "output_type": "execute_result",
          "data": {
            "text/plain": [
              "0.25"
            ]
          },
          "metadata": {},
          "execution_count": 4
        }
      ]
    },
    {
      "cell_type": "code",
      "source": [
        "#если действовать \"от противного\" и предположить, что события независимы в совокупности, то P(A1||A2||A3) = P(A1) * P(A2) * P(A3)\n",
        "p_total = 0.5*0.5*0.5\n",
        "p_total"
      ],
      "metadata": {
        "id": "080q5ArLSeme",
        "outputId": "3bd21624-e5a4-49fe-8cd0-20124633bbec",
        "colab": {
          "base_uri": "https://localhost:8080/"
        }
      },
      "execution_count": 5,
      "outputs": [
        {
          "output_type": "execute_result",
          "data": {
            "text/plain": [
              "0.125"
            ]
          },
          "metadata": {},
          "execution_count": 5
        }
      ]
    },
    {
      "cell_type": "code",
      "source": [
        "#а по факту в совокупности вероятность всех 3 событий 2/8 = 1/4\n",
        "p_real = 0.25\n",
        "\n",
        "print(f'Действительно ли независимы 3 события А1, А2 и А3 в совокупности? ', p_total == p_real)"
      ],
      "metadata": {
        "id": "RgJVHi2hTlee",
        "outputId": "c18cf866-099e-4a18-8a12-879372804f21",
        "colab": {
          "base_uri": "https://localhost:8080/"
        }
      },
      "execution_count": 6,
      "outputs": [
        {
          "output_type": "stream",
          "name": "stdout",
          "text": [
            "Действительно ли независимы 3 события А1, А2 и А3 в совокупности?  False\n"
          ]
        }
      ]
    },
    {
      "cell_type": "markdown",
      "source": [
        "## Уровень 1:"
      ],
      "metadata": {
        "id": "qZxS_tEVTapE"
      }
    },
    {
      "cell_type": "markdown",
      "source": [
        "### Задание 3\n"
      ],
      "metadata": {
        "id": "gUB5Tx31oDZB"
      }
    },
    {
      "cell_type": "markdown",
      "source": [
        "Изучите 3 распределения из библиотеки scipy: [Нормальное](https://docs.scipy.org/doc/scipy/reference/generated/scipy.stats.norm.html), [Экспоненциальное](https://docs.scipy.org/doc/scipy/reference/generated/scipy.stats.expon.html), [Стьюдента](https://docs.scipy.org/doc/scipy/reference/generated/scipy.stats.t.html). Используя функцию плотности распредления (`pdf`), постройте пять графиков плотностей для каждого распределения при разных параметрах. Запишите ваши наблюдения: как и на что влияют параметры у каждого распределения.\n",
        "\n",
        "Дополнительная информация [тут](https://pythonguides.com/scipy-stats/)."
      ],
      "metadata": {
        "id": "Jh-pEPj-TcDQ"
      }
    },
    {
      "cell_type": "code",
      "source": [
        "### YOUR CODE HERE"
      ],
      "metadata": {
        "id": "uco5UzhWoHAP"
      },
      "execution_count": 7,
      "outputs": []
    }
  ]
}