{
  "nbformat": 4,
  "nbformat_minor": 0,
  "metadata": {
    "colab": {
      "name": "HW_X_upd",
      "provenance": []
    },
    "kernelspec": {
      "name": "python3",
      "display_name": "Python 3"
    }
  },
  "cells": [
    {
      "cell_type": "markdown",
      "metadata": {
        "id": "g1hQiFW7isGe"
      },
      "source": [
        "# Итоговая работа."
      ]
    },
    {
      "cell_type": "code",
      "metadata": {
        "id": "NyZ7GotDi1Mp"
      },
      "source": [
        "import matplotlib.pyplot as plt\n",
        "import numpy as np\n",
        "\n",
        "from scipy.optimize import differential_evolution\n",
        "from scipy.optimize import minimize\n",
        "from scipy.stats import norm\n",
        "%matplotlib inline"
      ],
      "execution_count": 1,
      "outputs": []
    },
    {
      "cell_type": "markdown",
      "metadata": {
        "id": "VZFf_auXisJd"
      },
      "source": [
        "## Задание 1"
      ]
    },
    {
      "cell_type": "markdown",
      "metadata": {
        "id": "39rGnTIojFlV"
      },
      "source": [
        "\n",
        "Вычислите производную функции:\n",
        "\n",
        "$tg^2(sin(x) + cos(2x+3))$\n",
        "\n",
        "в точке $x_0=1$\n"
      ]
    },
    {
      "cell_type": "code",
      "source": [
        "import sympy as sym\n",
        "from sympy import *\n",
        "import math\n",
        "\n",
        "x = sym.Symbol('x')\n",
        "\n",
        "#найдем первую производную первоначальной функции\n",
        "func = sym.diff(tan(sin(x) + cos(2*x + 3))**2, x, 1)\n",
        "func"
      ],
      "metadata": {
        "colab": {
          "base_uri": "https://localhost:8080/",
          "height": 39
        },
        "id": "KXSKXHFEuOE9",
        "outputId": "ce1bf8e8-f130-4fe9-9614-e811244f9097"
      },
      "execution_count": 2,
      "outputs": [
        {
          "output_type": "execute_result",
          "data": {
            "text/plain": [
              "2*(-2*sin(2*x + 3) + cos(x))*(tan(sin(x) + cos(2*x + 3))**2 + 1)*tan(sin(x) + cos(2*x + 3))"
            ],
            "text/latex": "$\\displaystyle 2 \\left(- 2 \\sin{\\left(2 x + 3 \\right)} + \\cos{\\left(x \\right)}\\right) \\left(\\tan^{2}{\\left(\\sin{\\left(x \\right)} + \\cos{\\left(2 x + 3 \\right)} \\right)} + 1\\right) \\tan{\\left(\\sin{\\left(x \\right)} + \\cos{\\left(2 x + 3 \\right)} \\right)}$"
          },
          "metadata": {},
          "execution_count": 2
        }
      ]
    },
    {
      "cell_type": "code",
      "source": [
        "#вычислим значение производной в точке 1\n",
        "res = func.subs(x,1)\n",
        "res"
      ],
      "metadata": {
        "colab": {
          "base_uri": "https://localhost:8080/",
          "height": 39
        },
        "id": "Cv6S5wiAzZsm",
        "outputId": "c705b0c7-11ee-4bf2-ce28-0d9a1fe5057a"
      },
      "execution_count": 3,
      "outputs": [
        {
          "output_type": "execute_result",
          "data": {
            "text/plain": [
              "2*(1 + tan(cos(5) + sin(1))**2)*(cos(1) - 2*sin(5))*tan(cos(5) + sin(1))"
            ],
            "text/latex": "$\\displaystyle 2 \\cdot \\left(1 + \\tan^{2}{\\left(\\cos{\\left(5 \\right)} + \\sin{\\left(1 \\right)} \\right)}\\right) \\left(\\cos{\\left(1 \\right)} - 2 \\sin{\\left(5 \\right)}\\right) \\tan{\\left(\\cos{\\left(5 \\right)} + \\sin{\\left(1 \\right)} \\right)}$"
          },
          "metadata": {},
          "execution_count": 3
        }
      ]
    },
    {
      "cell_type": "code",
      "source": [
        "#вычислим числовое значение\n",
        "2*(1 + math.tan(math.cos(5) + math.sin(1))**2)*(math.cos(1) - 2*math.sin(5))*math.tan(math.cos(5) + math.sin(1))"
      ],
      "metadata": {
        "colab": {
          "base_uri": "https://localhost:8080/"
        },
        "id": "cQo6gwCabvZ_",
        "outputId": "3fc2606d-ab9d-4002-ff2d-760c0c704db0"
      },
      "execution_count": 4,
      "outputs": [
        {
          "output_type": "execute_result",
          "data": {
            "text/plain": [
              "55.385917635337854"
            ]
          },
          "metadata": {},
          "execution_count": 4
        }
      ]
    },
    {
      "cell_type": "markdown",
      "source": [
        "## Задание 2"
      ],
      "metadata": {
        "id": "P0dJuDCHlitb"
      }
    },
    {
      "cell_type": "markdown",
      "source": [
        "Дан объект в $2D$ пространстве"
      ],
      "metadata": {
        "id": "9t_CAEu4ljXX"
      }
    },
    {
      "cell_type": "code",
      "source": [
        "import numpy as np\n",
        "import matplotlib.pyplot as plt\n",
        "\n",
        "A = [\n",
        "[-100, -100, 1],\n",
        "[0, 100, 1],\n",
        "[100, -100, 1],\n",
        "[-100, -100, 1]\n",
        "]\n",
        "\n",
        "A = np.array(A)\n",
        "\n",
        "x = A[:,0]\n",
        "y = A[:,1]\n",
        "plt.plot(x, y)\n",
        "plt.ylim([-200, 200])\n",
        "plt.xlim([-200, 200])"
      ],
      "metadata": {
        "colab": {
          "base_uri": "https://localhost:8080/",
          "height": 452
        },
        "id": "jOSkPagdljlG",
        "outputId": "c95f6620-3fd0-47c4-d91f-40113c753cb0"
      },
      "execution_count": 5,
      "outputs": [
        {
          "output_type": "execute_result",
          "data": {
            "text/plain": [
              "(-200.0, 200.0)"
            ]
          },
          "metadata": {},
          "execution_count": 5
        },
        {
          "output_type": "display_data",
          "data": {
            "text/plain": [
              "<Figure size 640x480 with 1 Axes>"
            ],
            "image/png": "[encoded data removed]"
          },
          "metadata": {}
        }
      ]
    },
    {
      "cell_type": "markdown",
      "source": [
        "При помощи матричных операций выполните:\n",
        "- Масштабирование и смещение объекта (применить 2 матрицы трансформаций). Масштабирование на (0.5, 1.2) и смещение на (200, 300)\n"
      ],
      "metadata": {
        "id": "ALnwba_5lkFh"
      }
    },
    {
      "cell_type": "code",
      "source": [
        "#масштабирование на (0.5, 1.2)\n",
        "B=np.array([[0.5, 0, 0], [0, 1.2, 0], [0,0,0]])\n",
        "\n",
        "mtrx = B@A.transpose()\n",
        "mtrx2 = mtrx.transpose()\n",
        "\n",
        "A = np.array(mtrx2)\n",
        "\n",
        "x = A[:,0]\n",
        "y = A[:,1]\n",
        "plt.plot(x, y)\n",
        "plt.ylim([-200, 200])\n",
        "plt.xlim([-200, 200])"
      ],
      "metadata": {
        "id": "k1J7lbkRlkON",
        "colab": {
          "base_uri": "https://localhost:8080/",
          "height": 452
        },
        "outputId": "d41b28c8-bf1a-4c6f-a70f-a96f5c5d376e"
      },
      "execution_count": 6,
      "outputs": [
        {
          "output_type": "execute_result",
          "data": {
            "text/plain": [
              "(-200.0, 200.0)"
            ]
          },
          "metadata": {},
          "execution_count": 6
        },
        {
          "output_type": "display_data",
          "data": {
            "text/plain": [
              "<Figure size 640x480 with 1 Axes>"
            ],
            "image/png": "[encoded data removed]"
          },
          "metadata": {}
        }
      ]
    },
    {
      "cell_type": "code",
      "source": [
        "#смещение на (200, 300)\n",
        "C = np.array([[200,300,0]])\n",
        "\n",
        "mtrx = A + C\n",
        "\n",
        "A = np.array(mtrx)\n",
        "\n",
        "x = A[:,0]\n",
        "y = A[:,1]\n",
        "plt.plot(x, y)\n",
        "plt.ylim([150, 450])\n",
        "plt.xlim([100, 400])\n"
      ],
      "metadata": {
        "colab": {
          "base_uri": "https://localhost:8080/",
          "height": 452
        },
        "id": "CGOB-HTN8Pz4",
        "outputId": "fe894244-3b10-4c54-c432-abd9f1ba0c24"
      },
      "execution_count": 7,
      "outputs": [
        {
          "output_type": "execute_result",
          "data": {
            "text/plain": [
              "(100.0, 400.0)"
            ]
          },
          "metadata": {},
          "execution_count": 7
        },
        {
          "output_type": "display_data",
          "data": {
            "text/plain": [
              "<Figure size 640x480 with 1 Axes>"
            ],
            "image/png": "[encoded data removed]"
          },
          "metadata": {}
        }
      ]
    },
    {
      "cell_type": "markdown",
      "metadata": {
        "id": "QRJEo5ydjFjG"
      },
      "source": [
        "## Задание 3\n"
      ]
    },
    {
      "cell_type": "markdown",
      "source": [
        "Найдите собственные значения и собственные вектора матрицы:"
      ],
      "metadata": {
        "id": "j1IOvxF8L1v4"
      }
    },
    {
      "cell_type": "code",
      "source": [
        "m = np.array([[1, 4],\n",
        "              [1, 1]])\n",
        "print(m)"
      ],
      "metadata": {
        "id": "6aq0Aa8NL4gW",
        "colab": {
          "base_uri": "https://localhost:8080/"
        },
        "outputId": "038e3ba5-e1ee-4329-89e0-6576d3af49d1"
      },
      "execution_count": 8,
      "outputs": [
        {
          "output_type": "stream",
          "name": "stdout",
          "text": [
            "[[1 4]\n",
            " [1 1]]\n"
          ]
        }
      ]
    },
    {
      "cell_type": "code",
      "source": [
        "#зададим матрицу m\n",
        "m = np.array([[1, 4], [1, 1]])\n",
        "m"
      ],
      "metadata": {
        "id": "UOAdFwznMdY5",
        "colab": {
          "base_uri": "https://localhost:8080/"
        },
        "outputId": "cbbe38ea-469c-4f00-f711-85a994e07a76"
      },
      "execution_count": 9,
      "outputs": [
        {
          "output_type": "execute_result",
          "data": {
            "text/plain": [
              "array([[1, 4],\n",
              "       [1, 1]])"
            ]
          },
          "metadata": {},
          "execution_count": 9
        }
      ]
    },
    {
      "cell_type": "code",
      "source": [
        "#найдем собственные значения матрицы m\n",
        "np.linalg.eigvals(m)"
      ],
      "metadata": {
        "colab": {
          "base_uri": "https://localhost:8080/"
        },
        "id": "F7REACSUXnlM",
        "outputId": "fb435d35-f623-49ea-ebc3-67e056cbce18"
      },
      "execution_count": 10,
      "outputs": [
        {
          "output_type": "execute_result",
          "data": {
            "text/plain": [
              "array([ 3., -1.])"
            ]
          },
          "metadata": {},
          "execution_count": 10
        }
      ]
    },
    {
      "cell_type": "code",
      "source": [
        "#найдем собственные вектора матрицы m\n",
        "e_vec = np.linalg.eig(m)[1]\n",
        "e_vec"
      ],
      "metadata": {
        "colab": {
          "base_uri": "https://localhost:8080/"
        },
        "id": "CZL6owh2Xqsf",
        "outputId": "27fba395-20ee-4f03-de4e-9f8f713db5b1"
      },
      "execution_count": 11,
      "outputs": [
        {
          "output_type": "execute_result",
          "data": {
            "text/plain": [
              "array([[ 0.89442719, -0.89442719],\n",
              "       [ 0.4472136 ,  0.4472136 ]])"
            ]
          },
          "metadata": {},
          "execution_count": 11
        }
      ]
    },
    {
      "cell_type": "code",
      "source": [
        "#первый \"красивый\" собственный вектор\n",
        "vec1 = e_vec[0]/0.89442719\n",
        "vec1"
      ],
      "metadata": {
        "colab": {
          "base_uri": "https://localhost:8080/"
        },
        "id": "P7lE_3rnXzia",
        "outputId": "19067862-b326-445d-fcbd-51926a583afa"
      },
      "execution_count": 12,
      "outputs": [
        {
          "output_type": "execute_result",
          "data": {
            "text/plain": [
              "array([ 1., -1.])"
            ]
          },
          "metadata": {},
          "execution_count": 12
        }
      ]
    },
    {
      "cell_type": "code",
      "source": [
        "#второй \"красивый\" собственный вектор\n",
        "vec2 = e_vec[1]/0.4472136\n",
        "vec2"
      ],
      "metadata": {
        "colab": {
          "base_uri": "https://localhost:8080/"
        },
        "id": "Vh0BSmGBYb1C",
        "outputId": "a6c03107-4315-4672-c9a8-ac622dfeef04"
      },
      "execution_count": 13,
      "outputs": [
        {
          "output_type": "execute_result",
          "data": {
            "text/plain": [
              "array([0.99999999, 0.99999999])"
            ]
          },
          "metadata": {},
          "execution_count": 13
        }
      ]
    },
    {
      "cell_type": "markdown",
      "metadata": {
        "id": "T1y3_xiwjFpC"
      },
      "source": [
        "## Задание 4\n"
      ]
    },
    {
      "cell_type": "markdown",
      "source": [
        "Дана функция с неизвестными параметрами a и b, вам также известны значения функции `fx` в точках `x`.\n",
        "\n",
        "Найдите оптимальные параметры a, b, минимизирующие абсолютную ошибку `error`.\n"
      ],
      "metadata": {
        "id": "iJnhteBQMScA"
      }
    },
    {
      "cell_type": "code",
      "source": [
        "def f(x, a, b):\n",
        "    return np.e**a * np.sin(b*x) + x"
      ],
      "metadata": {
        "id": "eCUHicv7MSix"
      },
      "execution_count": 14,
      "outputs": []
    },
    {
      "cell_type": "code",
      "source": [
        "x = np.array([0.        , 0.26315789, 0.52631579, 0.78947368, 1.05263158,\n",
        "              1.31578947, 1.57894737, 1.84210526, 2.10526316, 2.36842105,\n",
        "              2.63157895, 2.89473684, 3.15789474, 3.42105263, 3.68421053,\n",
        "              3.94736842, 4.21052632, 4.47368421, 4.73684211, 5.        ])\n",
        "\n",
        "fx = np.array([  0.        , -12.01819092, -18.90968634, -17.68786571,\n",
        "                -8.7529108 ,   4.27524517,  16.06801336,  21.81250213,\n",
        "                19.22059845,   9.48411207,  -3.22273056, -13.48576488,\n",
        "               -16.91096359, -11.95866834,  -0.58630088,  12.56873816,\n",
        "                22.12489421,  24.20292139,  18.04522521,   6.33211092])"
      ],
      "metadata": {
        "id": "99KsJtMSMSk7"
      },
      "execution_count": 15,
      "outputs": []
    },
    {
      "cell_type": "code",
      "source": [
        "plt.plot(x, fx)\n",
        "plt.show()"
      ],
      "metadata": {
        "id": "ZVBTEvLlMSnf",
        "colab": {
          "base_uri": "https://localhost:8080/",
          "height": 430
        },
        "outputId": "531d5ef0-2eb8-4bb5-e48f-d074cd21252d"
      },
      "execution_count": 16,
      "outputs": [
        {
          "output_type": "display_data",
          "data": {
            "text/plain": [
              "<Figure size 640x480 with 1 Axes>"
            ],
            "image/png": "[encoded data removed]"
          },
          "metadata": {}
        }
      ]
    },
    {
      "cell_type": "code",
      "source": [
        "def error(params):\n",
        "    return np.sum(np.abs(fx - f(x, params[0], params[1])))"
      ],
      "metadata": {
        "id": "S_hiJIdNMSpt"
      },
      "execution_count": 17,
      "outputs": []
    },
    {
      "cell_type": "code",
      "source": [
        "#вручную подберем x0\n",
        "x0 = np.array([16.5, 16.5])"
      ],
      "metadata": {
        "id": "oJTy6SZQMcpG"
      },
      "execution_count": 18,
      "outputs": []
    },
    {
      "cell_type": "code",
      "source": [
        "#проверяем оптимизацию\n",
        "result = minimize(error, x0, method='Nelder-mead', options={'xtol': 1e-8, 'disp': True})"
      ],
      "metadata": {
        "colab": {
          "base_uri": "https://localhost:8080/"
        },
        "id": "BDRnFKpogbLj",
        "outputId": "17abe10f-da70-4e0b-addc-038460510d74"
      },
      "execution_count": 19,
      "outputs": [
        {
          "output_type": "stream",
          "name": "stdout",
          "text": [
            "Optimization terminated successfully.\n",
            "         Current function value: 0.000074\n",
            "         Iterations: 64\n",
            "         Function evaluations: 126\n"
          ]
        },
        {
          "output_type": "stream",
          "name": "stderr",
          "text": [
            "<ipython-input-19-5f5444877a1c>:2: OptimizeWarning: Unknown solver options: xtol\n",
            "  result = minimize(error, x0, method='Nelder-mead', options={'xtol': 1e-8, 'disp': True})\n"
          ]
        }
      ]
    },
    {
      "cell_type": "code",
      "source": [
        "#найдем оптимальные значения а и b\n",
        "result.x"
      ],
      "metadata": {
        "colab": {
          "base_uri": "https://localhost:8080/"
        },
        "id": "JXBC86ABhMtT",
        "outputId": "c3d3a8b1-3b5b-4869-ce6a-4e3466464696"
      },
      "execution_count": 20,
      "outputs": [
        {
          "output_type": "execute_result",
          "data": {
            "text/plain": [
              "array([ 3.00000001, 21.37610405])"
            ]
          },
          "metadata": {},
          "execution_count": 20
        }
      ]
    },
    {
      "cell_type": "code",
      "source": [
        "#удостоверимся в результате и нарисуем график дефолтного синего цвета с учетом оптимальных a b\n",
        "plt.plot(x, f(x, result.x[0], result.x[1]))\n",
        "#поверх него нарисуем график на входных данных иного цвета\n",
        "plt.plot(x, fx, c='green')\n",
        "plt.show()"
      ],
      "metadata": {
        "colab": {
          "base_uri": "https://localhost:8080/",
          "height": 430
        },
        "id": "MyDIfSXQptEa",
        "outputId": "1785a157-6126-44d0-9989-ea0cce00c457"
      },
      "execution_count": 21,
      "outputs": [
        {
          "output_type": "display_data",
          "data": {
            "text/plain": [
              "<Figure size 640x480 with 1 Axes>"
            ],
            "image/png": "[encoded data removed]"
          },
          "metadata": {}
        }
      ]
    },
    {
      "cell_type": "markdown",
      "source": [
        "Графики совпали идеально, параметры найдены корректно"
      ],
      "metadata": {
        "id": "Q9x79e-Zs4WK"
      }
    },
    {
      "cell_type": "markdown",
      "source": [
        "## Задание 5\n",
        "\n"
      ],
      "metadata": {
        "id": "w994ooEPPv5W"
      }
    },
    {
      "cell_type": "markdown",
      "metadata": {
        "id": "ABMPXsuhisMO"
      },
      "source": [
        "Дана матрица рейтингов фильмов (строки - пользователи (10 человек), столбцы - фильмы (15 фильмов))"
      ]
    },
    {
      "cell_type": "code",
      "metadata": {
        "id": "D4_Vshevi-4P"
      },
      "source": [
        "raitings = np.array([[ 4,  4,  9,  4,  1,  6, 10,  7,  9,  6,  9,  2,  8,  6,  6],\n",
        "                     [ 9,  2,  5, 10,  7,  8, 10,  5,  6,  2,  1,  6,  8,  9,  7],\n",
        "                     [ 1,  6,  8,  8,  4,  9,  3,  8, 10,  5,  2,  6,  8,  1,  6],\n",
        "                     [ 6,  1,  9,  7,  7,  9,  2,  3,  5,  1,  6,  6,  3,  2,  7],\n",
        "                     [ 3,  7,  3,  5,  7,  9,  9,  6,  2,  9,  1,  2,  8, 10,  6],\n",
        "                     [ 8,  3,  7,  3,  8,  6,  1,  8,  8,  6,  1,  9,  4, 10,  1],\n",
        "                     [ 9,  8,  4,  8,  8, 10,  6,  1,  1,  2,  9,  5,  2,  7,  2],\n",
        "                     [ 4,  1,  6,  4,  3, 10,  4,  4,  2,  8,  7,  9,  3,  8,  3],\n",
        "                     [ 2,  7,  7,  6, 10,  6,  8,  9,  8,  6, 10,  1,  7, 10,  4],\n",
        "                     [ 5, 10,  8,  8,  9,  7,  2,  9,  9, 10,  8,  8,  8,  6, 10]])"
      ],
      "execution_count": 22,
      "outputs": []
    },
    {
      "cell_type": "markdown",
      "metadata": {
        "id": "FuYpBPsTjBVa"
      },
      "source": [
        "Необходимо найти наиболее похожего пользователя по косинусной метрике для каждого из пользователей (ответ: 10 пар вида (x, y), где y - наиболее похожий пользователь на пользователя x)."
      ]
    }
  ]
}