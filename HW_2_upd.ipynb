{
  "nbformat": 4,
  "nbformat_minor": 0,
  "metadata": {
    "colab": {
      "name": "HW_2_upd",
      "provenance": []
    },
    "kernelspec": {
      "name": "python3",
      "display_name": "Python 3"
    }
  },
  "cells": [
    {
      "cell_type": "markdown",
      "metadata": {
        "id": "_kX74ytuOfgy"
      },
      "source": [
        "# Домашнее задание \"Линейная алгебра. Матрицы\"."
      ]
    },
    {
      "cell_type": "markdown",
      "source": [
        "## Уровень 0:\n"
      ],
      "metadata": {
        "id": "t69IZulqTZMz"
      }
    },
    {
      "cell_type": "markdown",
      "source": [
        "### Задание 1"
      ],
      "metadata": {
        "id": "9JUikPzroAL8"
      }
    },
    {
      "cell_type": "markdown",
      "source": [
        " - Создайте матрицу 3 на 3, заполненную числами от 1 до 9\n",
        " - Прибавьте к ней матрицу с единицами на диагонале\n",
        " - Умножьте полученную матрицу на вектор (1, 2, 3)\n",
        " - Вычислить транспонированную матрицу $A^T$ от полученной в результате прибавления матрицы\n",
        " - Посчитайте обратную матрицу к полученной в результате прибавления матрице\n"
      ],
      "metadata": {
        "id": "ya8BlSO5nQ9a"
      }
    },
    {
      "cell_type": "code",
      "source": [
        "#импортируем нужные для работы пакеты\n",
        "import numpy as np\n",
        "\n",
        "#создаем телефонную матрицу\n",
        "mx1 = np.array([[1,2,3], [4,5,6], [7,8,9]])\n",
        "\n",
        "#создаем единичную матрицу\n",
        "mx2 = np.eye(3)\n",
        "\n",
        "#сложим две матрицы\n",
        "mx3 = mx1 + mx2\n",
        "mx3"
      ],
      "metadata": {
        "id": "hZ34229YdNlq",
        "colab": {
          "base_uri": "https://localhost:8080/"
        },
        "outputId": "77fc2395-eb71-44bb-bf0f-83f666d4dabc"
      },
      "execution_count": 1,
      "outputs": [
        {
          "output_type": "execute_result",
          "data": {
            "text/plain": [
              "array([[ 2.,  2.,  3.],\n",
              "       [ 4.,  6.,  6.],\n",
              "       [ 7.,  8., 10.]])"
            ]
          },
          "metadata": {},
          "execution_count": 1
        }
      ]
    },
    {
      "cell_type": "code",
      "source": [
        "#умножим результат на вектор (1,2,3)\n",
        "v = np.array([1,2,3])\n",
        "mx4 = mx3*v\n",
        "mx4"
      ],
      "metadata": {
        "colab": {
          "base_uri": "https://localhost:8080/"
        },
        "id": "Ekp75buhBx8-",
        "outputId": "a39a0fc7-5cd2-4c73-cbbf-0a244b51458d"
      },
      "execution_count": 2,
      "outputs": [
        {
          "output_type": "execute_result",
          "data": {
            "text/plain": [
              "array([[ 2.,  4.,  9.],\n",
              "       [ 4., 12., 18.],\n",
              "       [ 7., 16., 30.]])"
            ]
          },
          "metadata": {},
          "execution_count": 2
        }
      ]
    },
    {
      "cell_type": "code",
      "source": [
        "#вычислим транспонированную матрицу к mx3\n",
        "mx5 = np.transpose(mx3)\n",
        "mx5"
      ],
      "metadata": {
        "colab": {
          "base_uri": "https://localhost:8080/"
        },
        "id": "fPMck1ViB05D",
        "outputId": "db95daf5-7194-48c5-fa5f-6c40e4a91941"
      },
      "execution_count": 3,
      "outputs": [
        {
          "output_type": "execute_result",
          "data": {
            "text/plain": [
              "array([[ 2.,  4.,  7.],\n",
              "       [ 2.,  6.,  8.],\n",
              "       [ 3.,  6., 10.]])"
            ]
          },
          "metadata": {},
          "execution_count": 3
        }
      ]
    },
    {
      "cell_type": "code",
      "source": [
        "#вычислим обратную матрицу к mx3\n",
        "mx6 = np.linalg.inv(mx3)\n",
        "mx6"
      ],
      "metadata": {
        "colab": {
          "base_uri": "https://localhost:8080/"
        },
        "id": "n96CKFczE1Zg",
        "outputId": "a2383ece-2bdd-4e33-e4c0-0c6831286a02"
      },
      "execution_count": 4,
      "outputs": [
        {
          "output_type": "execute_result",
          "data": {
            "text/plain": [
              "array([[-6.00000000e+00, -2.00000000e+00,  3.00000000e+00],\n",
              "       [-1.00000000e+00,  5.00000000e-01, -2.33146835e-16],\n",
              "       [ 5.00000000e+00,  1.00000000e+00, -2.00000000e+00]])"
            ]
          },
          "metadata": {},
          "execution_count": 4
        }
      ]
    },
    {
      "cell_type": "code",
      "source": [
        "#проверим обратную матрицу\n",
        "mx7 = mx6@mx3\n",
        "mx7"
      ],
      "metadata": {
        "colab": {
          "base_uri": "https://localhost:8080/"
        },
        "id": "-fAXXnHAKwSj",
        "outputId": "52538a31-1be9-429d-9ea3-47d6808c639f"
      },
      "execution_count": 5,
      "outputs": [
        {
          "output_type": "execute_result",
          "data": {
            "text/plain": [
              "array([[ 1.00000000e+00,  0.00000000e+00,  3.55271368e-15],\n",
              "       [-7.77156117e-17,  1.00000000e+00,  1.11022302e-16],\n",
              "       [ 6.66133815e-16,  0.00000000e+00,  1.00000000e+00]])"
            ]
          },
          "metadata": {},
          "execution_count": 5
        }
      ]
    },
    {
      "cell_type": "markdown",
      "source": [
        "## Уровень 1:"
      ],
      "metadata": {
        "id": "qZxS_tEVTapE"
      }
    },
    {
      "cell_type": "markdown",
      "source": [
        "### Задание 2"
      ],
      "metadata": {
        "id": "gUB5Tx31oDZB"
      }
    },
    {
      "cell_type": "markdown",
      "source": [
        "Найдите собственные значения и собственные вектора матрицы:\n",
        "```\n",
        "m = np.array([[2, 2],\n",
        "              [1, 3]])\n",
        "print(m)\n",
        "```\n",
        "\n"
      ],
      "metadata": {
        "id": "Jh-pEPj-TcDQ"
      }
    },
    {
      "cell_type": "code",
      "source": [
        "#импортируем нужные для работы пакеты\n",
        "import numpy as np\n",
        "\n",
        "#зададим матрицу m\n",
        "m = np.array([[2, 2], [1, 3]])\n",
        "m"
      ],
      "metadata": {
        "id": "1OeJWLrpobqU",
        "colab": {
          "base_uri": "https://localhost:8080/"
        },
        "outputId": "7ee15a34-bd86-4963-bc93-06066691a86a"
      },
      "execution_count": 6,
      "outputs": [
        {
          "output_type": "execute_result",
          "data": {
            "text/plain": [
              "array([[2, 2],\n",
              "       [1, 3]])"
            ]
          },
          "metadata": {},
          "execution_count": 6
        }
      ]
    },
    {
      "cell_type": "code",
      "source": [
        "#найдем собственные значения матрицы m\n",
        "np.linalg.eigvals(m)"
      ],
      "metadata": {
        "colab": {
          "base_uri": "https://localhost:8080/"
        },
        "id": "NOd_vVEJLemX",
        "outputId": "f5d089b3-1dff-437a-822f-4281f99f6a7c"
      },
      "execution_count": 7,
      "outputs": [
        {
          "output_type": "execute_result",
          "data": {
            "text/plain": [
              "array([1., 4.])"
            ]
          },
          "metadata": {},
          "execution_count": 7
        }
      ]
    },
    {
      "cell_type": "code",
      "source": [
        "#найдем собственные вектора матрицы m\n",
        "e_vec = np.linalg.eig(m)[1]"
      ],
      "metadata": {
        "colab": {
          "base_uri": "https://localhost:8080/"
        },
        "id": "hAjTrBBTs_DG",
        "outputId": "1df4da89-7831-4b4f-e709-69b61f055226"
      },
      "execution_count": 9,
      "outputs": [
        {
          "output_type": "execute_result",
          "data": {
            "text/plain": [
              "array([[-0.89442719, -0.70710678],\n",
              "       [ 0.4472136 , -0.70710678]])"
            ]
          },
          "metadata": {},
          "execution_count": 9
        }
      ]
    },
    {
      "cell_type": "code",
      "source": [
        "#транспонируем матрицу собственных векторов для удобства преобразования\n",
        "res1 = np.transpose(e_vec)"
      ],
      "metadata": {
        "colab": {
          "base_uri": "https://localhost:8080/"
        },
        "id": "rZ2B1OAxtaNc",
        "outputId": "58bd7827-d43a-4fab-e8e9-89c35f1a3505"
      },
      "execution_count": 14,
      "outputs": [
        {
          "output_type": "execute_result",
          "data": {
            "text/plain": [
              "array([-0.89442719,  0.4472136 ])"
            ]
          },
          "metadata": {},
          "execution_count": 14
        }
      ]
    },
    {
      "cell_type": "code",
      "source": [
        "#первый \"красивый\" собственный вектор\n",
        "res2 = res1[0]/-0.4472136\n",
        "res2"
      ],
      "metadata": {
        "colab": {
          "base_uri": "https://localhost:8080/"
        },
        "id": "rMhaZvRQuRWD",
        "outputId": "183514e8-761f-4ca0-a250-8dd061bfee41"
      },
      "execution_count": 17,
      "outputs": [
        {
          "output_type": "execute_result",
          "data": {
            "text/plain": [
              "array([ 1.99999998, -0.99999999])"
            ]
          },
          "metadata": {},
          "execution_count": 17
        }
      ]
    },
    {
      "cell_type": "code",
      "source": [
        "#второй \"красивый\" собственный вектор\n",
        "res3 = res1[1]/-0.70710678\n",
        "res3"
      ],
      "metadata": {
        "colab": {
          "base_uri": "https://localhost:8080/"
        },
        "id": "lpNFkYm3uf4H",
        "outputId": "4a7b9173-0b7e-4343-db1f-57b3a4b5b9ae"
      },
      "execution_count": 16,
      "outputs": [
        {
          "output_type": "execute_result",
          "data": {
            "text/plain": [
              "array([1., 1.])"
            ]
          },
          "metadata": {},
          "execution_count": 16
        }
      ]
    },
    {
      "cell_type": "markdown",
      "source": [
        "### Задание 3\n"
      ],
      "metadata": {
        "id": "Tj14Nn3NOp8s"
      }
    },
    {
      "cell_type": "markdown",
      "source": [
        "Придумайте матрицу, у которой определитель = 1, и все элементы не равны 0.\n",
        "\n",
        "P.S. Матрица должна быть ненулевой и размерностью не менее 2!"
      ],
      "metadata": {
        "id": "JMjSYrp4OrpG"
      }
    },
    {
      "cell_type": "code",
      "source": [
        "#импортируем нужные для работы пакеты\n",
        "import numpy as np\n",
        "\n",
        "#возьмем матрицу 2х2, в которой произвольным образом зададим (2х2-1) = 3 элемента\n",
        "elmts = np.random.randn(3)\n",
        "elmts"
      ],
      "metadata": {
        "id": "hRov-LJgOrz0",
        "colab": {
          "base_uri": "https://localhost:8080/"
        },
        "outputId": "5d54a19c-273f-4b62-8d31-3162aee6c6ca"
      },
      "execution_count": 7,
      "outputs": [
        {
          "output_type": "execute_result",
          "data": {
            "text/plain": [
              "array([0.92833765, 0.25753883, 1.06639283])"
            ]
          },
          "metadata": {},
          "execution_count": 7
        }
      ]
    },
    {
      "cell_type": "code",
      "source": [
        "#вычислим последнее значение\n",
        "elmt = (elmts[0] * elmts[1] + 1) / elmts[2]\n",
        "elmt"
      ],
      "metadata": {
        "id": "BGWe8n0bEU8n",
        "outputId": "048a8f74-a373-4229-a239-9994b626f281",
        "colab": {
          "base_uri": "https://localhost:8080/"
        }
      },
      "execution_count": 8,
      "outputs": [
        {
          "output_type": "execute_result",
          "data": {
            "text/plain": [
              "1.1619385941666587"
            ]
          },
          "metadata": {},
          "execution_count": 8
        }
      ]
    },
    {
      "cell_type": "code",
      "source": [
        "#соберем матрицу\n",
        "mtrx = np.array([[elmt, elmts[0]],[elmts[1],elmts[2]]])\n",
        "mtrx"
      ],
      "metadata": {
        "id": "GaKapZSpEuK3",
        "outputId": "258a24ac-7606-4c63-f004-ff199da148fb",
        "colab": {
          "base_uri": "https://localhost:8080/"
        }
      },
      "execution_count": 9,
      "outputs": [
        {
          "output_type": "execute_result",
          "data": {
            "text/plain": [
              "array([[1.16193859, 0.92833765],\n",
              "       [0.25753883, 1.06639283]])"
            ]
          },
          "metadata": {},
          "execution_count": 9
        }
      ]
    },
    {
      "cell_type": "code",
      "source": [
        "#проверим что определитель равен 1\n",
        "det_mtrx = np.linalg.det(mtrx)\n",
        "det_mtrx"
      ],
      "metadata": {
        "id": "cr-J-3vVFIGX",
        "outputId": "cb186dbd-a290-4c8b-f6c6-4f59c8312bd5",
        "colab": {
          "base_uri": "https://localhost:8080/"
        }
      },
      "execution_count": 10,
      "outputs": [
        {
          "output_type": "execute_result",
          "data": {
            "text/plain": [
              "1.0"
            ]
          },
          "metadata": {},
          "execution_count": 10
        }
      ]
    }
  ]
}