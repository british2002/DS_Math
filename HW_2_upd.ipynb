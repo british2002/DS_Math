{
  "nbformat": 4,
  "nbformat_minor": 0,
  "metadata": {
    "colab": {
      "name": "HW_2_upd",
      "provenance": []
    },
    "kernelspec": {
      "name": "python3",
      "display_name": "Python 3"
    }
  },
  "cells": [
    {
      "cell_type": "markdown",
      "metadata": {
        "id": "_kX74ytuOfgy"
      },
      "source": [
        "# Домашнее задание \"Линейная алгебра. Матрицы\"."
      ]
    },
    {
      "cell_type": "markdown",
      "source": [
        "## Уровень 0:\n"
      ],
      "metadata": {
        "id": "t69IZulqTZMz"
      }
    },
    {
      "cell_type": "markdown",
      "source": [
        "### Задание 1"
      ],
      "metadata": {
        "id": "9JUikPzroAL8"
      }
    },
    {
      "cell_type": "markdown",
      "source": [
        " - Создайте матрицу 3 на 3, заполненную числами от 1 до 9\n",
        " - Прибавьте к ней матрицу с единицами на диагонале\n",
        " - Умножьте полученную матрицу на вектор (1, 2, 3)\n",
        " - Вычислить транспонированную матрицу $A^T$ от полученной в результате прибавления матрицы\n",
        " - Посчитайте обратную матрицу к полученной в результате прибавления матрице\n"
      ],
      "metadata": {
        "id": "ya8BlSO5nQ9a"
      }
    },
    {
      "cell_type": "code",
      "source": [
        "#импортируем нужные для работы пакеты\n",
        "import numpy as np\n",
        "\n",
        "#создаем телефонную матрицу\n",
        "mx1 = np.array([[1,2,3], [4,5,6], [7,8,9]])\n",
        "\n",
        "#создаем единичную матрицу\n",
        "mx2 = np.eye(3)\n",
        "\n",
        "#сложим две матрицы\n",
        "mx3 = mx1 + mx2\n",
        "mx3"
      ],
      "metadata": {
        "id": "hZ34229YdNlq",
        "colab": {
          "base_uri": "https://localhost:8080/"
        },
        "outputId": "a55f610e-69a4-4b4a-bd70-37db87f96ad7"
      },
      "execution_count": 12,
      "outputs": [
        {
          "output_type": "execute_result",
          "data": {
            "text/plain": [
              "array([[ 2.,  2.,  3.],\n",
              "       [ 4.,  6.,  6.],\n",
              "       [ 7.,  8., 10.]])"
            ]
          },
          "metadata": {},
          "execution_count": 12
        }
      ]
    },
    {
      "cell_type": "code",
      "source": [
        "#умножим результат на вектор (1,2,3)\n",
        "v = np.array([1,2,3])\n",
        "mx4 = mx3*v\n",
        "mx4"
      ],
      "metadata": {
        "colab": {
          "base_uri": "https://localhost:8080/"
        },
        "id": "Ekp75buhBx8-",
        "outputId": "2e32d247-2032-4ce5-f727-b081d0c2e478"
      },
      "execution_count": 13,
      "outputs": [
        {
          "output_type": "execute_result",
          "data": {
            "text/plain": [
              "array([[ 2.,  4.,  9.],\n",
              "       [ 4., 12., 18.],\n",
              "       [ 7., 16., 30.]])"
            ]
          },
          "metadata": {},
          "execution_count": 13
        }
      ]
    },
    {
      "cell_type": "code",
      "source": [
        "#вычислим транспонированную матрицу к mx3\n",
        "mx5 = np.transpose(mx3)\n",
        "mx5"
      ],
      "metadata": {
        "colab": {
          "base_uri": "https://localhost:8080/"
        },
        "id": "fPMck1ViB05D",
        "outputId": "f26d6542-9d72-4f9a-cf9f-9ec333291528"
      },
      "execution_count": 14,
      "outputs": [
        {
          "output_type": "execute_result",
          "data": {
            "text/plain": [
              "array([[ 2.,  4.,  7.],\n",
              "       [ 2.,  6.,  8.],\n",
              "       [ 3.,  6., 10.]])"
            ]
          },
          "metadata": {},
          "execution_count": 14
        }
      ]
    },
    {
      "cell_type": "code",
      "source": [
        "#вычислим обратную матрицу к mx3\n",
        "mx6 = np.linalg.inv(mx3)\n",
        "mx6"
      ],
      "metadata": {
        "colab": {
          "base_uri": "https://localhost:8080/"
        },
        "id": "n96CKFczE1Zg",
        "outputId": "05211813-c3f5-46fe-9b71-0e424c3f6eb9"
      },
      "execution_count": 15,
      "outputs": [
        {
          "output_type": "execute_result",
          "data": {
            "text/plain": [
              "array([[-6.00000000e+00, -2.00000000e+00,  3.00000000e+00],\n",
              "       [-1.00000000e+00,  5.00000000e-01, -2.33146835e-16],\n",
              "       [ 5.00000000e+00,  1.00000000e+00, -2.00000000e+00]])"
            ]
          },
          "metadata": {},
          "execution_count": 15
        }
      ]
    },
    {
      "cell_type": "markdown",
      "source": [
        "## Уровень 1:"
      ],
      "metadata": {
        "id": "qZxS_tEVTapE"
      }
    },
    {
      "cell_type": "markdown",
      "source": [
        "### Задание 2"
      ],
      "metadata": {
        "id": "gUB5Tx31oDZB"
      }
    },
    {
      "cell_type": "markdown",
      "source": [
        "Найдите собственные значения и собственные вектора матрицы:\n",
        "```\n",
        "m = np.array([[2, 2],\n",
        "              [1, 3]])\n",
        "print(m)\n",
        "```\n",
        "\n"
      ],
      "metadata": {
        "id": "Jh-pEPj-TcDQ"
      }
    },
    {
      "cell_type": "code",
      "source": [
        "### YOUR CODE HERE"
      ],
      "metadata": {
        "id": "1OeJWLrpobqU"
      },
      "execution_count": null,
      "outputs": []
    },
    {
      "cell_type": "markdown",
      "source": [
        "### Задание 3\n"
      ],
      "metadata": {
        "id": "Tj14Nn3NOp8s"
      }
    },
    {
      "cell_type": "markdown",
      "source": [
        "Придумайте матрицу, у которой определитель = 1, и все элементы не равны 0.\n",
        "\n",
        "P.S. Матрица должна быть ненулевой и размерностью не менее 2!"
      ],
      "metadata": {
        "id": "JMjSYrp4OrpG"
      }
    },
    {
      "cell_type": "code",
      "source": [
        "### YOUR CODE HERE"
      ],
      "metadata": {
        "id": "hRov-LJgOrz0"
      },
      "execution_count": null,
      "outputs": []
    }
  ]
}